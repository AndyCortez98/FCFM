{
 "cells": [
  {
   "cell_type": "markdown",
   "metadata": {},
   "source": [
    "# Minería de datos \n",
    "##  Avance del Producto Integrador de Aprendizaje\n",
    "### Base a trabajar: Estadísticas de suicidio de la OMS\n",
    "#### URL: https://www.kaggle.com/szamil/who-suicide-statistics\n",
    "\n",
    "#### Integrantes del Equipo 10, grupo 003: \n",
    "- Andrea Isabel Cortez Sánchez 1736472\n",
    "- Sergio Oviedo Martínez 1750532\n",
    "- Andrés Hernandez de Luna 1757180\n",
    "- Johan Antonio Sustaita Martinez 1723476"
   ]
  },
  {
   "cell_type": "code",
   "execution_count": 3,
   "metadata": {},
   "outputs": [],
   "source": [
    "#Mandamos llamar a nuestra base de datos\n",
    "import pandas as pd\n",
    "import numpy as np \n",
    "data1 = pd.read_csv(\"C:/Users/telmex/Downloads/who_suicide_statistics.csv\")"
   ]
  },
  {
   "cell_type": "markdown",
   "metadata": {},
   "source": [
    "#### Tipo de Datos:\n",
    "\n",
    "- Estos datos son estadísticas de mortalidad brindada por la OMS. Al observar los datos, puede observar las tendencias a largo plazo y las diferencias entre países, así como dentro de los países en unos pocos grupos demográficos; en ambos casos, verá que estas diferencias pueden ser muy grandes.\n",
    "\n",
    "- Columna 1 'Country': Nos muestra la país de la que se está hablando.\n",
    "- Columna 2 'Year': Año del registro.\n",
    "- Columna 3 'Sex': Género de las personas.\n",
    "- Columna 4 'Age': Rango de edades.\n",
    "- Columna 5 'Suicides_no': Número de suicidios.\n",
    "- Columna 6 'Population': Total de población.\n",
    "\n",
    "#### Justificación de los datos: \n",
    "\n",
    "- La potencia vista en esta base fue el poder concientizar más a la sociedad sobre este delicado tema, pero para eso debemos conocer en que rango de edades y que país es donde se tienen mas registros y así trabajar en una buena campaña para ayudar a quienes más lo necesitan. \n",
    "- Hoy en día estamos pasando por una pandemia donde muchos se están resguardando en sus casas para el propio cuidado, pero eso ha afectado un poco la estabilidad emocional de los individuos. Nos gustaría comparar esta base de datos con los nuevos datos registrados durante estos últimos 12 meses.\n",
    "\n",
    "#### Objetivo:\n",
    "\n",
    "- Nuestro objetivo es saber 100% la manipulación de los datos pero ir de la mano con el aprendizaje de los temas a tratar.\n",
    "\n",
    "#### Preguntas de interés:\n",
    "\n",
    "- ¿Cuál es el país con mayor número de casos?\n",
    "- ¿Cuál es el país con menor número de casos?\n",
    "- ¿Cuál es el rango de edades donde más suceden suicidios?\n",
    "- ¿Existen más casos en hombres que en mujeres?\n",
    "- ¿Cuál es el porcentaje de población?\n"
   ]
  },
  {
   "cell_type": "markdown",
   "metadata": {},
   "source": [
    "## Parte de programación:"
   ]
  },
  {
   "cell_type": "code",
   "execution_count": 5,
   "metadata": {},
   "outputs": [
    {
     "data": {
      "text/html": [
       "<div>\n",
       "<style scoped>\n",
       "    .dataframe tbody tr th:only-of-type {\n",
       "        vertical-align: middle;\n",
       "    }\n",
       "\n",
       "    .dataframe tbody tr th {\n",
       "        vertical-align: top;\n",
       "    }\n",
       "\n",
       "    .dataframe thead th {\n",
       "        text-align: right;\n",
       "    }\n",
       "</style>\n",
       "<table border=\"1\" class=\"dataframe\">\n",
       "  <thead>\n",
       "    <tr style=\"text-align: right;\">\n",
       "      <th></th>\n",
       "      <th>country</th>\n",
       "      <th>year</th>\n",
       "      <th>sex</th>\n",
       "      <th>age</th>\n",
       "      <th>suicides_no</th>\n",
       "      <th>population</th>\n",
       "    </tr>\n",
       "  </thead>\n",
       "  <tbody>\n",
       "    <tr>\n",
       "      <th>0</th>\n",
       "      <td>Albania</td>\n",
       "      <td>1985</td>\n",
       "      <td>female</td>\n",
       "      <td>15-24 years</td>\n",
       "      <td>NaN</td>\n",
       "      <td>277900.0</td>\n",
       "    </tr>\n",
       "    <tr>\n",
       "      <th>1</th>\n",
       "      <td>Albania</td>\n",
       "      <td>1985</td>\n",
       "      <td>female</td>\n",
       "      <td>25-34 years</td>\n",
       "      <td>NaN</td>\n",
       "      <td>246800.0</td>\n",
       "    </tr>\n",
       "    <tr>\n",
       "      <th>2</th>\n",
       "      <td>Albania</td>\n",
       "      <td>1985</td>\n",
       "      <td>female</td>\n",
       "      <td>35-54 years</td>\n",
       "      <td>NaN</td>\n",
       "      <td>267500.0</td>\n",
       "    </tr>\n",
       "    <tr>\n",
       "      <th>3</th>\n",
       "      <td>Albania</td>\n",
       "      <td>1985</td>\n",
       "      <td>female</td>\n",
       "      <td>5-14 years</td>\n",
       "      <td>NaN</td>\n",
       "      <td>298300.0</td>\n",
       "    </tr>\n",
       "    <tr>\n",
       "      <th>4</th>\n",
       "      <td>Albania</td>\n",
       "      <td>1985</td>\n",
       "      <td>female</td>\n",
       "      <td>55-74 years</td>\n",
       "      <td>NaN</td>\n",
       "      <td>138700.0</td>\n",
       "    </tr>\n",
       "  </tbody>\n",
       "</table>\n",
       "</div>"
      ],
      "text/plain": [
       "   country  year     sex          age  suicides_no  population\n",
       "0  Albania  1985  female  15-24 years          NaN    277900.0\n",
       "1  Albania  1985  female  25-34 years          NaN    246800.0\n",
       "2  Albania  1985  female  35-54 years          NaN    267500.0\n",
       "3  Albania  1985  female   5-14 years          NaN    298300.0\n",
       "4  Albania  1985  female  55-74 years          NaN    138700.0"
      ]
     },
     "execution_count": 5,
     "metadata": {},
     "output_type": "execute_result"
    }
   ],
   "source": [
    "#En esta parte del programa postramos todos los datos que tenemos en nuestra base de datos\n",
    "data1.head() "
   ]
  },
  {
   "cell_type": "code",
   "execution_count": 7,
   "metadata": {},
   "outputs": [
    {
     "data": {
      "text/plain": [
       "(43776, 6)"
      ]
     },
     "execution_count": 7,
     "metadata": {},
     "output_type": "execute_result"
    }
   ],
   "source": [
    "# Numero de filas y columnas con las que cuenta nuestra base de datos\n",
    "data1.shape "
   ]
  },
  {
   "cell_type": "code",
   "execution_count": 8,
   "metadata": {
    "scrolled": true
   },
   "outputs": [
    {
     "data": {
      "text/html": [
       "<div>\n",
       "<style scoped>\n",
       "    .dataframe tbody tr th:only-of-type {\n",
       "        vertical-align: middle;\n",
       "    }\n",
       "\n",
       "    .dataframe tbody tr th {\n",
       "        vertical-align: top;\n",
       "    }\n",
       "\n",
       "    .dataframe thead th {\n",
       "        text-align: right;\n",
       "    }\n",
       "</style>\n",
       "<table border=\"1\" class=\"dataframe\">\n",
       "  <thead>\n",
       "    <tr style=\"text-align: right;\">\n",
       "      <th></th>\n",
       "      <th>country</th>\n",
       "      <th>year</th>\n",
       "      <th>sex</th>\n",
       "      <th>age</th>\n",
       "      <th>suicides_no</th>\n",
       "      <th>population</th>\n",
       "    </tr>\n",
       "  </thead>\n",
       "  <tbody>\n",
       "    <tr>\n",
       "      <th>43766</th>\n",
       "      <td>Zimbabwe</td>\n",
       "      <td>1990</td>\n",
       "      <td>female</td>\n",
       "      <td>35-54 years</td>\n",
       "      <td>45.0</td>\n",
       "      <td>NaN</td>\n",
       "    </tr>\n",
       "    <tr>\n",
       "      <th>43767</th>\n",
       "      <td>Zimbabwe</td>\n",
       "      <td>1990</td>\n",
       "      <td>female</td>\n",
       "      <td>5-14 years</td>\n",
       "      <td>6.0</td>\n",
       "      <td>NaN</td>\n",
       "    </tr>\n",
       "    <tr>\n",
       "      <th>43768</th>\n",
       "      <td>Zimbabwe</td>\n",
       "      <td>1990</td>\n",
       "      <td>female</td>\n",
       "      <td>55-74 years</td>\n",
       "      <td>20.0</td>\n",
       "      <td>NaN</td>\n",
       "    </tr>\n",
       "    <tr>\n",
       "      <th>43769</th>\n",
       "      <td>Zimbabwe</td>\n",
       "      <td>1990</td>\n",
       "      <td>female</td>\n",
       "      <td>75+ years</td>\n",
       "      <td>3.0</td>\n",
       "      <td>NaN</td>\n",
       "    </tr>\n",
       "    <tr>\n",
       "      <th>43770</th>\n",
       "      <td>Zimbabwe</td>\n",
       "      <td>1990</td>\n",
       "      <td>male</td>\n",
       "      <td>15-24 years</td>\n",
       "      <td>132.0</td>\n",
       "      <td>NaN</td>\n",
       "    </tr>\n",
       "    <tr>\n",
       "      <th>43771</th>\n",
       "      <td>Zimbabwe</td>\n",
       "      <td>1990</td>\n",
       "      <td>male</td>\n",
       "      <td>25-34 years</td>\n",
       "      <td>150.0</td>\n",
       "      <td>NaN</td>\n",
       "    </tr>\n",
       "    <tr>\n",
       "      <th>43772</th>\n",
       "      <td>Zimbabwe</td>\n",
       "      <td>1990</td>\n",
       "      <td>male</td>\n",
       "      <td>35-54 years</td>\n",
       "      <td>132.0</td>\n",
       "      <td>NaN</td>\n",
       "    </tr>\n",
       "    <tr>\n",
       "      <th>43773</th>\n",
       "      <td>Zimbabwe</td>\n",
       "      <td>1990</td>\n",
       "      <td>male</td>\n",
       "      <td>5-14 years</td>\n",
       "      <td>6.0</td>\n",
       "      <td>NaN</td>\n",
       "    </tr>\n",
       "    <tr>\n",
       "      <th>43774</th>\n",
       "      <td>Zimbabwe</td>\n",
       "      <td>1990</td>\n",
       "      <td>male</td>\n",
       "      <td>55-74 years</td>\n",
       "      <td>74.0</td>\n",
       "      <td>NaN</td>\n",
       "    </tr>\n",
       "    <tr>\n",
       "      <th>43775</th>\n",
       "      <td>Zimbabwe</td>\n",
       "      <td>1990</td>\n",
       "      <td>male</td>\n",
       "      <td>75+ years</td>\n",
       "      <td>13.0</td>\n",
       "      <td>NaN</td>\n",
       "    </tr>\n",
       "  </tbody>\n",
       "</table>\n",
       "</div>"
      ],
      "text/plain": [
       "        country  year     sex          age  suicides_no  population\n",
       "43766  Zimbabwe  1990  female  35-54 years         45.0         NaN\n",
       "43767  Zimbabwe  1990  female   5-14 years          6.0         NaN\n",
       "43768  Zimbabwe  1990  female  55-74 years         20.0         NaN\n",
       "43769  Zimbabwe  1990  female    75+ years          3.0         NaN\n",
       "43770  Zimbabwe  1990    male  15-24 years        132.0         NaN\n",
       "43771  Zimbabwe  1990    male  25-34 years        150.0         NaN\n",
       "43772  Zimbabwe  1990    male  35-54 years        132.0         NaN\n",
       "43773  Zimbabwe  1990    male   5-14 years          6.0         NaN\n",
       "43774  Zimbabwe  1990    male  55-74 years         74.0         NaN\n",
       "43775  Zimbabwe  1990    male    75+ years         13.0         NaN"
      ]
     },
     "execution_count": 8,
     "metadata": {},
     "output_type": "execute_result"
    }
   ],
   "source": [
    " #Nos muestra los ultimos 10 datos de nuestra base de datos\n",
    "data1.tail(10) "
   ]
  },
  {
   "cell_type": "code",
   "execution_count": 9,
   "metadata": {},
   "outputs": [
    {
     "data": {
      "text/plain": [
       "Index(['country', 'year', 'sex', 'age', 'suicides_no', 'population'], dtype='object')"
      ]
     },
     "execution_count": 9,
     "metadata": {},
     "output_type": "execute_result"
    }
   ],
   "source": [
    "#Queremos ver los nombres de nuestras columnas\n",
    "data1.columns"
   ]
  },
  {
   "cell_type": "code",
   "execution_count": 16,
   "metadata": {},
   "outputs": [],
   "source": [
    "#Vemos que los nombres están en inglés, por lo que los cambiamos\n",
    "a= data1.rename(columns = {'country':'País','year':'Año','sex':'Género','age':'Rango_De_Edad','suicides_no':'Número_De_Suicidios','population':'Población'})"
   ]
  },
  {
   "cell_type": "code",
   "execution_count": 17,
   "metadata": {},
   "outputs": [
    {
     "data": {
      "text/plain": [
       "País                    object\n",
       "Año                      int64\n",
       "Género                  object\n",
       "Rango_De_Edad           object\n",
       "Número_De_Suicidios    float64\n",
       "Población              float64\n",
       "dtype: object"
      ]
     },
     "execution_count": 17,
     "metadata": {},
     "output_type": "execute_result"
    }
   ],
   "source": [
    "#Tipos de datos de nuestras columnas\n",
    "a.dtypes"
   ]
  },
  {
   "cell_type": "code",
   "execution_count": 20,
   "metadata": {},
   "outputs": [
    {
     "data": {
      "text/plain": [
       "dtype('int64')"
      ]
     },
     "execution_count": 20,
     "metadata": {},
     "output_type": "execute_result"
    }
   ],
   "source": [
    "#Tipo de dato para una columna en especifico\n",
    "a['Año'].dtype "
   ]
  },
  {
   "cell_type": "code",
   "execution_count": 27,
   "metadata": {},
   "outputs": [
    {
     "data": {
      "text/plain": [
       "0        1985.0\n",
       "1        1985.0\n",
       "2        1985.0\n",
       "3        1985.0\n",
       "4        1985.0\n",
       "          ...  \n",
       "43771    1990.0\n",
       "43772    1990.0\n",
       "43773    1990.0\n",
       "43774    1990.0\n",
       "43775    1990.0\n",
       "Name: Año, Length: 43776, dtype: float64"
      ]
     },
     "execution_count": 27,
     "metadata": {},
     "output_type": "execute_result"
    }
   ],
   "source": [
    "#Para tener solo dos tipos de datos en nuestra base, hacemos un cambio de enteros a flotantes\n",
    "a.Año.astype(\"float\") "
   ]
  },
  {
   "cell_type": "code",
   "execution_count": 28,
   "metadata": {},
   "outputs": [
    {
     "data": {
      "text/html": [
       "<div>\n",
       "<style scoped>\n",
       "    .dataframe tbody tr th:only-of-type {\n",
       "        vertical-align: middle;\n",
       "    }\n",
       "\n",
       "    .dataframe tbody tr th {\n",
       "        vertical-align: top;\n",
       "    }\n",
       "\n",
       "    .dataframe thead th {\n",
       "        text-align: right;\n",
       "    }\n",
       "</style>\n",
       "<table border=\"1\" class=\"dataframe\">\n",
       "  <thead>\n",
       "    <tr style=\"text-align: right;\">\n",
       "      <th></th>\n",
       "      <th>Año</th>\n",
       "      <th>Número_De_Suicidios</th>\n",
       "      <th>Población</th>\n",
       "    </tr>\n",
       "  </thead>\n",
       "  <tbody>\n",
       "    <tr>\n",
       "      <th>count</th>\n",
       "      <td>43776.000000</td>\n",
       "      <td>41520.000000</td>\n",
       "      <td>3.831600e+04</td>\n",
       "    </tr>\n",
       "    <tr>\n",
       "      <th>mean</th>\n",
       "      <td>1998.502467</td>\n",
       "      <td>193.315390</td>\n",
       "      <td>1.664091e+06</td>\n",
       "    </tr>\n",
       "    <tr>\n",
       "      <th>std</th>\n",
       "      <td>10.338711</td>\n",
       "      <td>800.589926</td>\n",
       "      <td>3.647231e+06</td>\n",
       "    </tr>\n",
       "    <tr>\n",
       "      <th>min</th>\n",
       "      <td>1979.000000</td>\n",
       "      <td>0.000000</td>\n",
       "      <td>2.590000e+02</td>\n",
       "    </tr>\n",
       "    <tr>\n",
       "      <th>25%</th>\n",
       "      <td>1990.000000</td>\n",
       "      <td>1.000000</td>\n",
       "      <td>8.511275e+04</td>\n",
       "    </tr>\n",
       "    <tr>\n",
       "      <th>50%</th>\n",
       "      <td>1999.000000</td>\n",
       "      <td>14.000000</td>\n",
       "      <td>3.806550e+05</td>\n",
       "    </tr>\n",
       "    <tr>\n",
       "      <th>75%</th>\n",
       "      <td>2007.000000</td>\n",
       "      <td>91.000000</td>\n",
       "      <td>1.305698e+06</td>\n",
       "    </tr>\n",
       "    <tr>\n",
       "      <th>max</th>\n",
       "      <td>2016.000000</td>\n",
       "      <td>22338.000000</td>\n",
       "      <td>4.380521e+07</td>\n",
       "    </tr>\n",
       "  </tbody>\n",
       "</table>\n",
       "</div>"
      ],
      "text/plain": [
       "                Año  Número_De_Suicidios     Población\n",
       "count  43776.000000         41520.000000  3.831600e+04\n",
       "mean    1998.502467           193.315390  1.664091e+06\n",
       "std       10.338711           800.589926  3.647231e+06\n",
       "min     1979.000000             0.000000  2.590000e+02\n",
       "25%     1990.000000             1.000000  8.511275e+04\n",
       "50%     1999.000000            14.000000  3.806550e+05\n",
       "75%     2007.000000            91.000000  1.305698e+06\n",
       "max     2016.000000         22338.000000  4.380521e+07"
      ]
     },
     "execution_count": 28,
     "metadata": {},
     "output_type": "execute_result"
    }
   ],
   "source": [
    "# informacion resumida de nuestra base de datos\n",
    "a.describe()"
   ]
  },
  {
   "cell_type": "code",
   "execution_count": 30,
   "metadata": {},
   "outputs": [
    {
     "data": {
      "text/plain": [
       "País\n",
       "Russian Federation          1500992.0\n",
       "United States of America    1201401.0\n",
       "Japan                        937614.0\n",
       "France                       395500.0\n",
       "Ukraine                      365170.0\n",
       "Germany                      291262.0\n",
       "Republic of Korea            261730.0\n",
       "Brazil                       250824.0\n",
       "Poland                       172562.0\n",
       "United Kingdom               166314.0\n",
       "Italy                        157074.0\n",
       "Hungary                      130018.0\n",
       "Thailand                     129899.0\n",
       "Canada                       128382.0\n",
       "Kazakhstan                   123151.0\n",
       "Mexico                       117479.0\n",
       "Spain                        110097.0\n",
       "Argentina                     93862.0\n",
       "Sri Lanka                     80747.0\n",
       "Australia                     80279.0\n",
       "Belgium                       75948.0\n",
       "Belarus                       74974.0\n",
       "Romania                       72793.0\n",
       "Netherlands                   60205.0\n",
       "Austria                       60179.0\n",
       "Colombia                      54136.0\n",
       "Czech Republic                51664.0\n",
       "Chile                         44126.0\n",
       "Uzbekistan                    44063.0\n",
       "Bulgaria                      42868.0\n",
       "Name: Número_De_Suicidios, dtype: float64"
      ]
     },
     "execution_count": 30,
     "metadata": {},
     "output_type": "execute_result"
    }
   ],
   "source": [
    "#Aqui podemos observar el numero total de suicidios por pais\n",
    "country=a[\"Número_De_Suicidios\"].groupby(a[\"País\"]).sum().sort_values(ascending=False)\n",
    "country.head(30)"
   ]
  },
  {
   "cell_type": "code",
   "execution_count": 33,
   "metadata": {},
   "outputs": [
    {
     "data": {
      "text/plain": [
       "País                   False\n",
       "Año                    False\n",
       "Género                 False\n",
       "Rango_De_Edad          False\n",
       "Número_De_Suicidios     True\n",
       "Población               True\n",
       "dtype: bool"
      ]
     },
     "execution_count": 33,
     "metadata": {},
     "output_type": "execute_result"
    }
   ],
   "source": [
    "#Vemos si existen datos nulos en nuestras columnas\n",
    "# FALSE = NO ^ TRUE = SÍ\n",
    "a.isnull().any()"
   ]
  },
  {
   "cell_type": "code",
   "execution_count": 34,
   "metadata": {},
   "outputs": [
    {
     "data": {
      "text/plain": [
       "País                      0\n",
       "Año                       0\n",
       "Género                    0\n",
       "Rango_De_Edad             0\n",
       "Número_De_Suicidios    2256\n",
       "Población              5460\n",
       "dtype: int64"
      ]
     },
     "execution_count": 34,
     "metadata": {},
     "output_type": "execute_result"
    }
   ],
   "source": [
    "# Como obtuvimos que si, contamos\n",
    "# En nuestra base de datos el no tener un dato en numero de suicidio puede ser algo positivo y es por eso que tomamos la decisión de \n",
    "# no eliminar columnas o filas\n",
    "a.isnull().sum()"
   ]
  },
  {
   "cell_type": "code",
   "execution_count": 41,
   "metadata": {},
   "outputs": [],
   "source": [
    "#LLenamos nuestros espacios nulos con ceros para tener una mejor vista de nuestra base\n",
    "b = a_0 = a.fillna(0)"
   ]
  },
  {
   "cell_type": "code",
   "execution_count": 42,
   "metadata": {},
   "outputs": [
    {
     "data": {
      "text/html": [
       "<div>\n",
       "<style scoped>\n",
       "    .dataframe tbody tr th:only-of-type {\n",
       "        vertical-align: middle;\n",
       "    }\n",
       "\n",
       "    .dataframe tbody tr th {\n",
       "        vertical-align: top;\n",
       "    }\n",
       "\n",
       "    .dataframe thead th {\n",
       "        text-align: right;\n",
       "    }\n",
       "</style>\n",
       "<table border=\"1\" class=\"dataframe\">\n",
       "  <thead>\n",
       "    <tr style=\"text-align: right;\">\n",
       "      <th></th>\n",
       "      <th>País</th>\n",
       "      <th>Año</th>\n",
       "      <th>Género</th>\n",
       "      <th>Rango_De_Edad</th>\n",
       "      <th>Número_De_Suicidios</th>\n",
       "      <th>Población</th>\n",
       "    </tr>\n",
       "  </thead>\n",
       "  <tbody>\n",
       "    <tr>\n",
       "      <th>0</th>\n",
       "      <td>Albania</td>\n",
       "      <td>1985</td>\n",
       "      <td>female</td>\n",
       "      <td>15-24 years</td>\n",
       "      <td>0.0</td>\n",
       "      <td>277900.0</td>\n",
       "    </tr>\n",
       "    <tr>\n",
       "      <th>1</th>\n",
       "      <td>Albania</td>\n",
       "      <td>1985</td>\n",
       "      <td>female</td>\n",
       "      <td>25-34 years</td>\n",
       "      <td>0.0</td>\n",
       "      <td>246800.0</td>\n",
       "    </tr>\n",
       "    <tr>\n",
       "      <th>2</th>\n",
       "      <td>Albania</td>\n",
       "      <td>1985</td>\n",
       "      <td>female</td>\n",
       "      <td>35-54 years</td>\n",
       "      <td>0.0</td>\n",
       "      <td>267500.0</td>\n",
       "    </tr>\n",
       "    <tr>\n",
       "      <th>3</th>\n",
       "      <td>Albania</td>\n",
       "      <td>1985</td>\n",
       "      <td>female</td>\n",
       "      <td>5-14 years</td>\n",
       "      <td>0.0</td>\n",
       "      <td>298300.0</td>\n",
       "    </tr>\n",
       "    <tr>\n",
       "      <th>4</th>\n",
       "      <td>Albania</td>\n",
       "      <td>1985</td>\n",
       "      <td>female</td>\n",
       "      <td>55-74 years</td>\n",
       "      <td>0.0</td>\n",
       "      <td>138700.0</td>\n",
       "    </tr>\n",
       "    <tr>\n",
       "      <th>...</th>\n",
       "      <td>...</td>\n",
       "      <td>...</td>\n",
       "      <td>...</td>\n",
       "      <td>...</td>\n",
       "      <td>...</td>\n",
       "      <td>...</td>\n",
       "    </tr>\n",
       "    <tr>\n",
       "      <th>43771</th>\n",
       "      <td>Zimbabwe</td>\n",
       "      <td>1990</td>\n",
       "      <td>male</td>\n",
       "      <td>25-34 years</td>\n",
       "      <td>150.0</td>\n",
       "      <td>0.0</td>\n",
       "    </tr>\n",
       "    <tr>\n",
       "      <th>43772</th>\n",
       "      <td>Zimbabwe</td>\n",
       "      <td>1990</td>\n",
       "      <td>male</td>\n",
       "      <td>35-54 years</td>\n",
       "      <td>132.0</td>\n",
       "      <td>0.0</td>\n",
       "    </tr>\n",
       "    <tr>\n",
       "      <th>43773</th>\n",
       "      <td>Zimbabwe</td>\n",
       "      <td>1990</td>\n",
       "      <td>male</td>\n",
       "      <td>5-14 years</td>\n",
       "      <td>6.0</td>\n",
       "      <td>0.0</td>\n",
       "    </tr>\n",
       "    <tr>\n",
       "      <th>43774</th>\n",
       "      <td>Zimbabwe</td>\n",
       "      <td>1990</td>\n",
       "      <td>male</td>\n",
       "      <td>55-74 years</td>\n",
       "      <td>74.0</td>\n",
       "      <td>0.0</td>\n",
       "    </tr>\n",
       "    <tr>\n",
       "      <th>43775</th>\n",
       "      <td>Zimbabwe</td>\n",
       "      <td>1990</td>\n",
       "      <td>male</td>\n",
       "      <td>75+ years</td>\n",
       "      <td>13.0</td>\n",
       "      <td>0.0</td>\n",
       "    </tr>\n",
       "  </tbody>\n",
       "</table>\n",
       "<p>43776 rows × 6 columns</p>\n",
       "</div>"
      ],
      "text/plain": [
       "           País   Año  Género Rango_De_Edad  Número_De_Suicidios  Población\n",
       "0       Albania  1985  female   15-24 years                  0.0   277900.0\n",
       "1       Albania  1985  female   25-34 years                  0.0   246800.0\n",
       "2       Albania  1985  female   35-54 years                  0.0   267500.0\n",
       "3       Albania  1985  female    5-14 years                  0.0   298300.0\n",
       "4       Albania  1985  female   55-74 years                  0.0   138700.0\n",
       "...         ...   ...     ...           ...                  ...        ...\n",
       "43771  Zimbabwe  1990    male   25-34 years                150.0        0.0\n",
       "43772  Zimbabwe  1990    male   35-54 years                132.0        0.0\n",
       "43773  Zimbabwe  1990    male    5-14 years                  6.0        0.0\n",
       "43774  Zimbabwe  1990    male   55-74 years                 74.0        0.0\n",
       "43775  Zimbabwe  1990    male     75+ years                 13.0        0.0\n",
       "\n",
       "[43776 rows x 6 columns]"
      ]
     },
     "execution_count": 42,
     "metadata": {},
     "output_type": "execute_result"
    }
   ],
   "source": [
    "#Mandamos llamar a nuestra base con los cambios realizados\n",
    "b"
   ]
  },
  {
   "cell_type": "code",
   "execution_count": null,
   "metadata": {},
   "outputs": [],
   "source": []
  }
 ],
 "metadata": {
  "kernelspec": {
   "display_name": "Python 3",
   "language": "python",
   "name": "python3"
  },
  "language_info": {
   "codemirror_mode": {
    "name": "ipython",
    "version": 3
   },
   "file_extension": ".py",
   "mimetype": "text/x-python",
   "name": "python",
   "nbconvert_exporter": "python",
   "pygments_lexer": "ipython3",
   "version": "3.8.5"
  }
 },
 "nbformat": 4,
 "nbformat_minor": 4
}
