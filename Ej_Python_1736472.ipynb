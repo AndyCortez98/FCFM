{
 "cells": [
  {
   "cell_type": "markdown",
   "metadata": {},
   "source": [
    "## Ejercicio 1\n",
    "- Realiza una variable con tu matricula y realiza una secuencia de imprimir con tu nombre y tu matricula concatenados."
   ]
  },
  {
   "cell_type": "code",
   "execution_count": 1,
   "metadata": {},
   "outputs": [
    {
     "name": "stdout",
     "output_type": "stream",
     "text": [
      "Andrea Cortez con matricula:  1736472\n"
     ]
    }
   ],
   "source": [
    "mt=1736472\n",
    "print(\"Andrea Cortez con matricula: \",mt)"
   ]
  },
  {
   "cell_type": "markdown",
   "metadata": {},
   "source": [
    "## Ejercicio 2\n",
    "- Pidiendo el input del usuario pide dos números y crea una pequeña calculadora con los operadores básicos de suma, resta, multiplicación, división, y exponente."
   ]
  },
  {
   "cell_type": "code",
   "execution_count": 3,
   "metadata": {},
   "outputs": [
    {
     "name": "stdout",
     "output_type": "stream",
     "text": [
      "Introduce un numero: 2\n",
      "Introduce otro numero: 5\n",
      "2 + 5 = 7\n",
      "2 - 5 = -3\n",
      "2 * 5 = 10\n",
      "2 / 5 = 0.4\n",
      "2 ^ 5 = 32\n"
     ]
    }
   ],
   "source": [
    "a=int(input(\"Introduce un numero: \"))\n",
    "b=int(input(\"Introduce otro numero: \"))\n",
    "\n",
    "print(a,\"+\",b,\"=\",a+b)\n",
    "print(a,\"-\",b,\"=\",a-b)\n",
    "print(a,\"*\",b,\"=\",a*b)\n",
    "print(a,\"/\",b,\"=\",a/b)\n",
    "print(a,\"^\",b,\"=\",a**b)"
   ]
  },
  {
   "cell_type": "markdown",
   "metadata": {},
   "source": [
    "## Ejercicio 3\n",
    "- Con loop while o for, realiza una lista de 10 numeros multiplos de 3, y después realiza una función de loop que sume todos los números dentro del arreglo."
   ]
  },
  {
   "cell_type": "code",
   "execution_count": 40,
   "metadata": {},
   "outputs": [
    {
     "name": "stdout",
     "output_type": "stream",
     "text": [
      "51\n",
      "54\n",
      "57\n",
      "60\n",
      "63\n",
      "66\n",
      "69\n",
      "72\n",
      "75\n",
      "78\n",
      "La suma es 645\n"
     ]
    }
   ],
   "source": [
    "suma=0\n",
    "i=48\n",
    "while i<78:\n",
    "    i=i+3\n",
    "    suma=suma+i #Aqui estoy acumulando mis valores para despues que no se cumpla tener mi suma total\n",
    "    print(i)\n",
    "\n",
    "if suma <= 645:\n",
    "    print(\"La suma es 645\") \n",
    "else: \n",
    "    print(\"Suma no lograda\")\n",
    "\n",
    "    "
   ]
  },
  {
   "cell_type": "markdown",
   "metadata": {},
   "source": [
    "## Ejercicio 4\n",
    "- Con una función de if else, revisar si un número es par o es impar.\n",
    "- Con una función de if else, revisar si un número es primo o no."
   ]
  },
  {
   "cell_type": "code",
   "execution_count": 43,
   "metadata": {
    "scrolled": true
   },
   "outputs": [
    {
     "name": "stdout",
     "output_type": "stream",
     "text": [
      "Introduce un numero: 45\n",
      "El numero introducido es impar.\n"
     ]
    }
   ],
   "source": [
    "a=int(input(\"Introduce un numero: \"))\n",
    "\n",
    "if a % 2 == 0:\n",
    "    print(\"El numero introducido es un numero par.\")\n",
    "else:\n",
    "    print(\"El numero introducido es impar.\")\n",
    "    \n"
   ]
  },
  {
   "cell_type": "markdown",
   "metadata": {},
   "source": [
    "## Ejercicio 5\n",
    "- Utilizando diferentes clases en python, crea una calculadora con los operadores básicos de suma, resta, multiplicación, división, y exponente."
   ]
  },
  {
   "cell_type": "code",
   "execution_count": 44,
   "metadata": {},
   "outputs": [
    {
     "ename": "NameError",
     "evalue": "name 'd' is not defined",
     "output_type": "error",
     "traceback": [
      "\u001b[1;31m---------------------------------------------------------------------------\u001b[0m",
      "\u001b[1;31mNameError\u001b[0m                                 Traceback (most recent call last)",
      "\u001b[1;32m<ipython-input-44-e983f374794d>\u001b[0m in \u001b[0;36m<module>\u001b[1;34m\u001b[0m\n\u001b[1;32m----> 1\u001b[1;33m \u001b[0md\u001b[0m\u001b[1;33m\u001b[0m\u001b[1;33m\u001b[0m\u001b[0m\n\u001b[0m",
      "\u001b[1;31mNameError\u001b[0m: name 'd' is not defined"
     ]
    }
   ],
   "source": [
    "d"
   ]
  },
  {
   "cell_type": "markdown",
   "metadata": {},
   "source": [
    "## Ejercicios con estructuras básicas de python.\n",
    "\n",
    "- Tuplas"
   ]
  },
  {
   "cell_type": "code",
   "execution_count": 54,
   "metadata": {},
   "outputs": [
    {
     "name": "stdout",
     "output_type": "stream",
     "text": [
      "1.19 es tipo:  <class 'float'>\n",
      "5 es tipo:  <class 'int'>\n",
      "False es tipo:  <class 'bool'>\n",
      "El primer valor de la tupla es: 1 y el último es: 3 \n",
      "\n",
      "(1, 2, 3, 'andy', 'rie', 'mucho')\n"
     ]
    }
   ],
   "source": [
    "#1\n",
    "vf = float (1.19)\n",
    "print(vf, \"es tipo: \",type(vf))\n",
    "vint = int(5)\n",
    "print(vint, \"es tipo: \", type(vint))\n",
    "vbol = bool (0)\n",
    "print(vbol, \"es tipo: \", type(vbol))\n",
    "\n",
    "#2\n",
    "t1 = (1,2,3)\n",
    "print(\"El primer valor de la tupla es:\",t1[0], \"y el último es:\",t1[2],\"\\n\")\n",
    "\n",
    "#3\n",
    "a=list(t1)\n",
    "a.append(\"andy\")\n",
    "a.append(\"rie\")\n",
    "a.append(\"mucho\")\n",
    "t1=tuple(a)\n",
    "print(t1)\n",
    "\n",
    "#4\n",
    "\n"
   ]
  },
  {
   "cell_type": "markdown",
   "metadata": {},
   "source": [
    "- Listas\n"
   ]
  },
  {
   "cell_type": "code",
   "execution_count": 57,
   "metadata": {},
   "outputs": [
    {
     "name": "stdout",
     "output_type": "stream",
     "text": [
      "lista:  [883, 825, 534, 926, 560, 557, 790, 950, 635, 820, 871, 585, 767, 708, 806, 970, 780, 888, 922, 532, 531, 656, 778, 938, 777, 685, 811, 551, 872, 694, 707, 727, 972, 722, 716, 740, 958, 736, 578, 810]\n"
     ]
    }
   ],
   "source": [
    "#1\n",
    "import random as r\n",
    "import os\n",
    "lista = []\n",
    "i=0\n",
    "while i < 40:\n",
    "    a = r.randint (500,1000)\n",
    "    lista.append(a)\n",
    "    i = i+1\n",
    "print(\"lista: \",lista)\n",
    "\n",
    "#2\n"
   ]
  },
  {
   "cell_type": "markdown",
   "metadata": {},
   "source": [
    "- Diccionario"
   ]
  },
  {
   "cell_type": "code",
   "execution_count": 65,
   "metadata": {},
   "outputs": [
    {
     "name": "stdout",
     "output_type": "stream",
     "text": [
      "Diccionario:  {'Andy': 22, 'Oziel': 19, 'Lluvia': 20, 'Tzintzun': 22, 'Stephy': 21, 'Salome': 26}\n",
      "Edades de menor a mayor:  [19, 20, 21, 22, 22, 26]\n",
      "\n",
      " Andy\n",
      "\n",
      " Oziel\n",
      "\n",
      " Lluvia\n",
      "\n",
      " Tzintzun\n",
      "\n",
      " Stephy\n",
      "\n",
      " Salome\n",
      "\n",
      "Diccionario modificado:  {'Andy': 22, 'Oziel': 19, 'Lluvia': 20, 'Tzintzun': 22, 'Stephy': 21, 'Salome': 26, 'Guzman': '23', 'Marycarmen': '54'}\n"
     ]
    }
   ],
   "source": [
    "#1\n",
    "d={'Andy':22,'Oziel':19,'Lluvia':20,'Tzintzun':22,'Stephy':21,'Salome':26}\n",
    "print(\"Diccionario: \",d)\n",
    "\n",
    "#2\n",
    "lisd=d.values()\n",
    "lisd=sorted(lisd)\n",
    "print(\"Edades de menor a mayor: \",lisd)\n",
    "\n",
    "#3\n",
    "i=0\n",
    "for i in d:\n",
    "    print(\"\\n\",i)\n",
    "\n",
    "#4 \n",
    "d[\"Guzman\"] = '23'\n",
    "d[\"Marycarmen\"] = '54'\n",
    "print(\"\\nDiccionario modificado: \",d)"
   ]
  },
  {
   "cell_type": "code",
   "execution_count": null,
   "metadata": {},
   "outputs": [],
   "source": []
  }
 ],
 "metadata": {
  "kernelspec": {
   "display_name": "Python 3",
   "language": "python",
   "name": "python3"
  },
  "language_info": {
   "codemirror_mode": {
    "name": "ipython",
    "version": 3
   },
   "file_extension": ".py",
   "mimetype": "text/x-python",
   "name": "python",
   "nbconvert_exporter": "python",
   "pygments_lexer": "ipython3",
   "version": "3.8.5"
  }
 },
 "nbformat": 4,
 "nbformat_minor": 4
}
